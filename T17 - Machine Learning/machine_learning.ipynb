{
 "cells": [
  {
   "cell_type": "markdown",
   "metadata": {
    "id": "IBb6nSAY5T4I"
   },
   "source": [
    "# Machine Learning\n",
    "## Compulsory task"
   ]
  },
  {
   "cell_type": "markdown",
   "metadata": {
    "id": "N02Qu9_f1N45"
   },
   "source": [
    "1. For each of the following examples describe at least one possible input and\n",
    "output. Justify your answers:  \n",
    "* 1.1 A self-driving car\n",
    "* 1.2 Netflix recommendation system\n",
    "* 1.3 Signature recognition\n",
    "* 1.4 Medical diagnosis\n"
   ]
  },
  {
   "cell_type": "code",
   "execution_count": null,
   "metadata": {},
   "outputs": [],
   "source": []
  },
  {
   "cell_type": "markdown",
   "metadata": {
    "id": "-8aBqprP3ypo"
   },
   "source": [
    "1. Answer here\n",
    "\n",
    "|      |Input(s)     |Output      |\n",
    "| ---- | ----------- | ---------  |\n",
    "| 1.1  |Photograph of a street taken every 0.1 s; current map of roads; GPS signal; information about traffic|Commands to a steering wheel (turn left/right or keep straight) and gas pedal (increase/decrease speed)|\n",
    "| 1.2  |User's age; genre/length/budget/awards/age restrictions of movies already watched by this user|Title, year and director of a recommended movie|\n",
    "| 1.3  |Signature in a given picture format|Assignment of the signature to a chosen user present in database|\n",
    "| 1.4  |Body temperature; blood pressure; X-ray scan|Latin name of a disease|\n",
    "\n",
    "<b>Justifications</b>\n",
    "<p><b>1.1</b> <u>Input:</u><br>\n",
    "- The street view should provide information about the road's curvature and obstacles (e.g., crossing pedestrians, cars rapidly stopping, etc.).<br>\n",
    "- The GPS signal provides info on the car's location, which can be assigned to a specific place on a map (the accuracy of modern satellites is 1 m).<br>\n",
    "- Information about traffic helps adjust the route to avoid being stuck in traffic jams.<br>\n",
    "<u>Output:</u> A car is operated by adjusting travel direction and speed. Therefore, the output should decide whether to turn left or right and adjust the speed accordingly.</p>\n",
    "<p><b>1.2</b> <u>Input:</u> we need to understand user's taste which can be obtained mainly from movies already watched. Movies features which can be easily distinguished involve:<br>\n",
    "- genre,<br>\n",
    "- length,<br>\n",
    "- budget,<br>\n",
    "- age restrictions,<br>\n",
    "- awards won.<br>\n",
    "Moreover, user's age will show us which age restrictions we should apply despite previous preferences.<br>\n",
    "<u>Output:</u> The chosen movie must be clearly defined not to be confused with any other. This is done by providing it's title, year of production and a director.</p>\n",
    "<p><b>1.3</b> <u>Input:</u> must be a signature itself, which is a picture with pixels in a chosen format (jpg/png etc).<br><u>Output:</u> assigning the signature to the one in the database with a name tagged to it.</p>\n",
    "<p><b>1.4</b> <u>Input:</u> We need information about the condition of the patient's body, which can be quantified by:<br>\n",
    "- Blood pressure,<br>\n",
    "- Body temperature,<br>\n",
    "- X-ray scans of chosen body parts.<br>\n",
    "<u>Output:</u> A disease is plainly defined by its Latin name.</p>"
   ]
  },
  {
   "cell_type": "markdown",
   "metadata": {
    "id": "l_I2f4C85yNF"
   },
   "source": [
    "\n",
    "2. For each of the following case studies, determine whether it is appropriate to utilise regression or classification machine learning algorithms. Justify your answers:\n",
    "* 2.1 Classifying emails as promotion or social based on their content and metadata.\n",
    "* 2.2 Forecasting the stock price of a company based on historical data and market trends.\n",
    "* 2.3 Sorting images of animals into different species based on their visual features.\n",
    "* 2.4 Predicting the likelihood of a patient having a particular disease based on medical history and diagnostic test results."
   ]
  },
  {
   "cell_type": "markdown",
   "metadata": {
    "id": "WgMUsqQr6qFU"
   },
   "source": [
    "2. Answer here\n",
    "* <b>2.1 - Classification.</b> We want to divide emails into two groups (promotion or social). For grouping, we need classification.\n",
    "* <b>2.2 - Regression.</b> We want to model new data (future stock price) based on the input data.\n",
    "* <b>2.3 - Classification.</b> We are grouping images into species. Once again, when grouping is involved, we need classification.\n",
    "* <b>2.4 - Regression.</b> Based on the input data, we want to model a new number, which represents the likelihood of having a specific chosen disease. Therefore, we are making predictions rather than grouping, as we are only considering one disease. Regression algorithms are used when the output is a continuous value and the likelihood is such a value."
   ]
  },
  {
   "cell_type": "markdown",
   "metadata": {
    "id": "b6f8UETG64hH"
   },
   "source": [
    "3. For each of the following real-world problems, determine whether it is appropriate to utilise a supervised or unsupervised machine learning algorithm. Justify your answers:\n",
    "* 3.1 Detecting anomalies in a manufacturing process using sensor data without prior knowledge of specific anomaly patterns.\n",
    "* 3.2 Predicting customer lifetime value based on historical transaction data and customer demographics.\n",
    "* 3.3 Segmenting customer demographics based on their purchase history, browsing behaviour, and preferences.\n",
    "* 3.4 Analysing social media posts to categorise them into different themes.\n"
   ]
  },
  {
   "cell_type": "markdown",
   "metadata": {
    "id": "W6dTYBvd675O"
   },
   "source": [
    "3. Answer here<br>\n",
    "* <b>3.1 - Unsupervised.</b> We do not know the anomaly patterns so there are no specific patterns to learn from.\n",
    "* <b>3.2 - Supervised.</b> In this case there are labeled examples available. The training set are historical transaction data and customer demographics, and the desired output is customer lifetime.\n",
    "* <b>3.3 - Unsupervised.</b> We want to segment customers without predefined labels and that is what unspervised learning algorithms are suitable for. K-means clustering algorithm could be used for this task.\n",
    "* <b>3.4 - Unsupervised.</b> The key question here is whether themes are pre-defined. I assume that there is no prior knowledge of specific themes, as no theme names are provided in this problem. Thus, this task is similar to 3.3, and the unsupervised learning algorithm can be utilized."
   ]
  },
  {
   "cell_type": "markdown",
   "metadata": {
    "id": "bqsun96o64xe"
   },
   "source": [
    "4.\n",
    "For each of the following real-world problems, determine whether it is appropriate to utilise semi-supervised machine learning algorithms. Justify your answers:\n",
    "* 4.1 Predicting fraudulent financial transactions using a dataset where most transactions are labelled as fraudulent or legitimate.\n",
    "* 4.2 Analysing customer satisfaction surveys where only a small portion of the data is labelled with satisfaction ratings.\n",
    "* 4.3 Identifying spam emails in a dataset where the majority of emails are labelled.\n",
    "* 4.4 Predicting the probability of default for credit card applicants based on their complete financial and credit-related information.\n"
   ]
  },
  {
   "cell_type": "markdown",
   "metadata": {
    "id": "aTWugZ6q68GF"
   },
   "source": [
    "4. Answer here\n",
    "* <b>4.1 - Supervised </b>Here, the dataset is labeled so the supervised learning algorithms can learn from the labeled data to classify new transactions.\n",
    "* <b>4.2 - Semi-Supervised </b>Since only a small portion of the data is labeled, it may be inefficient to rely solely on supervised learning techniques.\n",
    "* <b>4.3 - Supervised </b>Similar to case 4.1, in this problem most of data is labeled. Supervised learning algorithms can effectively classify emails as spam or not spam based on the labeled data.\n",
    "* <b>4.4 - Supervised </b>Once again, the dataset consists of labeled examples where the outcome is known, which can be used to train the algorithm.\n",
    "\n",
    "In general, to my knowledge, semi-supervised machine learning algorithms are used when there is a limited amount of labeled data, but the unlabeled data is abundant. Another reason for using them is when labeling data is expensive and/or time-consuming. I based the above answers on these assumptions."
   ]
  },
  {
   "cell_type": "code",
   "execution_count": null,
   "metadata": {},
   "outputs": [],
   "source": []
  }
 ],
 "metadata": {
  "colab": {
   "provenance": []
  },
  "kernelspec": {
   "display_name": "Python 3 (ipykernel)",
   "language": "python",
   "name": "python3"
  },
  "language_info": {
   "codemirror_mode": {
    "name": "ipython",
    "version": 3
   },
   "file_extension": ".py",
   "mimetype": "text/x-python",
   "name": "python",
   "nbconvert_exporter": "python",
   "pygments_lexer": "ipython3",
   "version": "3.11.5"
  }
 },
 "nbformat": 4,
 "nbformat_minor": 1
}
