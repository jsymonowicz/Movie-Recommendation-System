{
 "cells": [
  {
   "cell_type": "markdown",
   "metadata": {},
   "source": [
    "TASK: Write the code needed to produce a report that provides the following information:\n",
    "\n",
    "Compare the average income based on ethnicity.\n",
    "On average, do married or single people have a higher balance?\n",
    "What is the highest income in our dataset?\n",
    "What is the lowest income in our dataset?\n",
    "How many cards do we have recorded in our dataset? (Hint: use sum())\n",
    "How many females do we have information for vs how many males? (Hint: use count() for a list of all methods for computation of descriptive stats, explore the pandas documentation)."
   ]
  },
  {
   "cell_type": "code",
   "execution_count": 65,
   "metadata": {
    "id": "h0LVvvnfJsg5"
   },
   "outputs": [],
   "source": [
    "# Import pandas\n",
    "import pandas as pd"
   ]
  },
  {
   "cell_type": "code",
   "execution_count": 66,
   "metadata": {
    "id": "rv2oLRnPK36J"
   },
   "outputs": [],
   "source": [
    "# Create a DataFrame with balance.txt\n",
    "df = pd.read_csv('balance.txt', delim_whitespace = True)"
   ]
  },
  {
   "cell_type": "code",
   "execution_count": 67,
   "metadata": {},
   "outputs": [
    {
     "name": "stdout",
     "output_type": "stream",
     "text": [
      "Average income based on ethnicity:\n",
      "\n",
      "Ethnicity\n",
      "African American    47.682101\n",
      "Asian               44.187833\n",
      "Caucasian           44.521945\n",
      "Name: Income, dtype: float64\n"
     ]
    }
   ],
   "source": [
    "# Compare the average income based on ethnicity.\n",
    "\n",
    "print('Average income based on ethnicity:\\n')\n",
    "print(df.groupby('Ethnicity')['Income'].mean())"
   ]
  },
  {
   "cell_type": "code",
   "execution_count": 68,
   "metadata": {},
   "outputs": [
    {
     "name": "stdout",
     "output_type": "stream",
     "text": [
      "On average, single people have a higher balance.\n"
     ]
    }
   ],
   "source": [
    "# On average, do married or single people have a higher balance?\n",
    "\n",
    "# Calculating balances of married and single people\n",
    "married_balance = df[df.Married == 'Yes']['Balance'].mean()\n",
    "unmarried_balance = df[df.Married == 'No']['Balance'].mean()\n",
    "\n",
    "# Comparing balances of married and single people\n",
    "if married_balance > unmarried_balance:\n",
    "    print('On average, married people have a higher balance.')\n",
    "elif married_balance == unmarried_balance:\n",
    "    print('On average, married and single people have the same balance.')\n",
    "else:\n",
    "    print('On average, single people have a higher balance.')"
   ]
  },
  {
   "cell_type": "code",
   "execution_count": 69,
   "metadata": {},
   "outputs": [
    {
     "name": "stdout",
     "output_type": "stream",
     "text": [
      "The highest income in our dataset is 186.634.\n"
     ]
    }
   ],
   "source": [
    "# What is the highest income in our dataset?\n",
    "\n",
    "highest_income = df[\"Income\"].max()\n",
    "print(f\"The highest income in our dataset is {highest_income}.\")"
   ]
  },
  {
   "cell_type": "code",
   "execution_count": 70,
   "metadata": {},
   "outputs": [
    {
     "name": "stdout",
     "output_type": "stream",
     "text": [
      "The lowest income in our dataset is 10.354.\n"
     ]
    }
   ],
   "source": [
    "# What is the lowest income in our dataset?\n",
    "\n",
    "lowest_income = df[\"Income\"].min()\n",
    "print(f\"The lowest income in our dataset is {lowest_income}.\")"
   ]
  },
  {
   "cell_type": "code",
   "execution_count": 71,
   "metadata": {},
   "outputs": [
    {
     "name": "stdout",
     "output_type": "stream",
     "text": [
      "In our dataset we have 1183 cards.\n"
     ]
    }
   ],
   "source": [
    "# How many cards do we have recorded in our dataset?\n",
    "\n",
    "num_of_cards = df['Cards'].sum()\n",
    "print(f\"In our dataset we have {num_of_cards} cards.\")"
   ]
  },
  {
   "cell_type": "code",
   "execution_count": 72,
   "metadata": {},
   "outputs": [
    {
     "name": "stdout",
     "output_type": "stream",
     "text": [
      "We have information for 207 females vs 193 males.\n"
     ]
    }
   ],
   "source": [
    "# How many females do we have information for vs how many males?\n",
    "\n",
    "num_of_females = df[df.Gender == 'Female']['Income'].count()\n",
    "num_of_males = df[df.Gender == 'Male']['Income'].count()\n",
    "print(f\"We have information for {num_of_females} females vs {num_of_males} males.\")"
   ]
  }
 ],
 "metadata": {
  "colab": {
   "provenance": []
  },
  "kernelspec": {
   "display_name": "Python 3 (ipykernel)",
   "language": "python",
   "name": "python3"
  },
  "language_info": {
   "codemirror_mode": {
    "name": "ipython",
    "version": 3
   },
   "file_extension": ".py",
   "mimetype": "text/x-python",
   "name": "python",
   "nbconvert_exporter": "python",
   "pygments_lexer": "ipython3",
   "version": "3.11.5"
  }
 },
 "nbformat": 4,
 "nbformat_minor": 1
}
